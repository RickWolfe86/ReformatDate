{
 "cells": [
  {
   "cell_type": "code",
   "execution_count": 1,
   "metadata": {},
   "outputs": [],
   "source": [
    "def reformatDate(dates):\n",
    "    reformated_dates =[]\n",
    "    \n",
    "    months = {\"Jan\" : \"01\", \"Feb\" : \"02\", \"Mar\" : \"03\", \"Apr\" : \"04\", \"May\" : \"05\", \"Jun\" : \"06\", \n",
    "              \"Jul\" : \"07\", \"Aug\" : \"08\", \"Sep\" : \"09\", \"Oct\" : \"10\", \"Nov\" : \"11\", \"Dec\" : \"12\"}\n",
    "    for str_date in dates:\n",
    "        date_items = str_date.split(\" \")\n",
    "        \n",
    "        year = date_items[2]\n",
    "        month = months.get(date_items[1])\n",
    "        day = (date_items[0].replace(\"th\", \"\").replace(\"st\", \"\")\n",
    "              .replace(\"rd\", \"\").replace(\"nd\", \"\").rjust(2,\"0\"))\n",
    "        \n",
    "        ordered_date =(year, month, day)\n",
    "        reformated_dates.append(\"-\".join(ordered_date))\n",
    "        \n",
    "    return reformated_dates\n"
   ]
  },
  {
   "cell_type": "code",
   "execution_count": 6,
   "metadata": {},
   "outputs": [
    {
     "name": "stdin",
     "output_type": "stream",
     "text": [
      " 1\n",
      " 1st Mar 1984\n"
     ]
    },
    {
     "name": "stdout",
     "output_type": "stream",
     "text": [
      "1984-03-01\n",
      "\n",
      "\n"
     ]
    }
   ],
   "source": [
    "if __name__ == '__main__':\n",
    "  #  fptr = open(os.environ['OUTPUT_PATH'], 'w')\n",
    "\n",
    "    dates_count = int(input().strip())\n",
    "\n",
    "    dates = []\n",
    "\n",
    "    for _ in range(dates_count):\n",
    "        dates_item = input()\n",
    "        dates.append(dates_item)\n",
    "\n",
    "    result = reformatDate(dates)\n",
    "\n",
    "    print('\\n'.join(result))\n",
    "    print('\\n')"
   ]
  }
 ],
 "metadata": {
  "kernelspec": {
   "display_name": "Python 3",
   "language": "python",
   "name": "python3"
  },
  "language_info": {
   "codemirror_mode": {
    "name": "ipython",
    "version": 3
   },
   "file_extension": ".py",
   "mimetype": "text/x-python",
   "name": "python",
   "nbconvert_exporter": "python",
   "pygments_lexer": "ipython3",
   "version": "3.7.6"
  }
 },
 "nbformat": 4,
 "nbformat_minor": 4
}
